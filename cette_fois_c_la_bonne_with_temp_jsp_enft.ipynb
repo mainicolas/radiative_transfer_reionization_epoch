{
 "cells": [
  {
   "cell_type": "code",
   "execution_count": 1,
   "metadata": {},
   "outputs": [],
   "source": [
    "import numpy as np\n",
    "import matplotlib.pyplot as plt\n",
    "from matplotlib.animation import FuncAnimation, PillowWriter\n",
    "\n",
    "from astropy import constants as cste\n",
    "\n",
    "#%matplotlib widget"
   ]
  },
  {
   "cell_type": "markdown",
   "metadata": {},
   "source": [
    "## Numerical integration scheme"
   ]
  },
  {
   "cell_type": "code",
   "execution_count": 2,
   "metadata": {},
   "outputs": [],
   "source": [
    "def glf(N, F, P, i):\n",
    "    glf_f, glf_p = [], []\n",
    "    for j in range(0,n_cell):\n",
    "            if i == 0 and j == 0:\n",
    "                glf_f.append(0)\n",
    "                glf_p.append(0)\n",
    "            if i != 0 and j == 0:\n",
    "                glf_f.append( (F[i - 1][n_cell - 1] + F[i][j]) * 0.5 - c/2 * (N[i][j] - N[i - 1][n_cell - 1]) )\n",
    "                glf_p.append( (P[i - 1][n_cell - 1] + P[i][j]) * 0.5 - c/2 * (F[i][j] - F[i - 1][n_cell - 1]) )\n",
    "            if j != 0:\n",
    "                glf_f.append( (F[i][j - 1] + F[i][j]) * 0.5 - c/2 * (N[i][j] - N[i][j - 1]) )\n",
    "                glf_p.append( (P[i][j - 1] + P[i][j]) * 0.5 - c/2 * (F[i][j] - F[i][j - 1]) )\n",
    "                \n",
    "    return glf_f, glf_p"
   ]
  },
  {
   "cell_type": "code",
   "execution_count": 214,
   "metadata": {},
   "outputs": [],
   "source": [
    "def numerical_scheme(n_photon, N, F, P, T, dt, tf, source_pos, X, continuous=True, chemistery=True, coupling=True):\n",
    "    kb = cste.k_B.value\n",
    "    for i in source_pos:\n",
    "        N[0][i] = n_photon\n",
    "    \n",
    "    for i in range(0,int(tf/dt)-1):\n",
    "        GLF = glf(N,F,P,i)\n",
    "        glf_f, glf_p = GLF[0], GLF[1]\n",
    "        \n",
    "        for k in range(0,n_cell):\n",
    "            if continuous == True and (k in source_pos):\n",
    "                if k < n_cell - 1:\n",
    "                    N[i + 1][k] = n_photon + N[i][k] - dt/dx * (glf_f[k + 1] - glf_f[k])\n",
    "                    F[i + 1][k] = F[i][k] - dt/dx * (glf_p[k + 1] - glf_p[k])\n",
    "                else:\n",
    "                    N[i + 1][k] = n_photon + N[i][k] - dt/dx * (glf_f[0] - glf_f[k])\n",
    "                    F[i + 1][k] = F[i][k] - dt/dx * (glf_p[0] - glf_p[k])\n",
    "                    \n",
    "            else: \n",
    "                if k < n_cell - 1:\n",
    "                    N[i + 1][k] = N[i][k] - dt/dx * (glf_f[k + 1] - glf_f[k])\n",
    "                    F[i + 1][k] = F[i][k] - dt/dx * (glf_p[k + 1] - glf_p[k])\n",
    "                else:\n",
    "                    N[i + 1][k] = N[i][k] - dt/dx * (glf_f[0] - glf_f[k])\n",
    "                    F[i + 1][k] = F[i][k] - dt/dx * (glf_p[0] - glf_p[k])\n",
    "                    \n",
    "            if N[i + 1][k] < 1e-25:\n",
    "                N[i + 1][k] = 0.0001\n",
    "\n",
    "            if chemistery == True:\n",
    "                X[i + 1][k] = third_order_polynom(X[i][k], rho, sigma, N[i + 1][k], T[i + 1][k],c)\n",
    "                test = new_advection_equation(N[i + 1][k], F[i + 1][k], rho, X[i+1][k], X[i][k], T[i + 1][k])\n",
    "                N[i + 1][k] = test[0]\n",
    "                F[i + 1][k] = test[1]\n",
    "\n",
    "            f = F[i + 1][k] / (c * N[i + 1][k])\n",
    "            chi = (3 + 4 * (f**2)) / (5 + 2 * np.sqrt(4 - 3 * (f**2)))\n",
    "            P[i + 1][k] = chi * N[i + 1][k] * (c**2)\n",
    "            \n",
    "            \n",
    "            if coupling == True:\n",
    "                e = rho * (dx*dx*dx) * (1 + (X[i+1][k] - X[i][k])) * (3/2) * kb * T[i][k]\n",
    "                e_next = e + dt * (heating(rho, dx, 20, X[i+1][k], X[i][k]) - cooling(T[i][k]))\n",
    "                \n",
    "                T[i + 1][k] = (2/3)*e_next/(kb * rho * (dx*dx*dx) * (1 + X[i+1][k]))\n",
    "                \n",
    "        if i%1000 == 0:\n",
    "            print(i)\n",
    "                \n",
    "                \n",
    "    return N, F, P, T, X"
   ]
  },
  {
   "cell_type": "markdown",
   "metadata": {},
   "source": [
    "T[i + 1][k] = (2/3)*(heat(X[i + 1][k], T[i + 1][k]) - cooling(T[i + 1][k]))*rho*(dx*dx*dx)/kb"
   ]
  },
  {
   "cell_type": "markdown",
   "metadata": {},
   "source": [
    " T[i + 1][k] = (2*dt*(heat(X[i + 1][k],T[i + 1][k])-cooling(T[i + 1][k]))\n",
    "                               +T[i + 1][k]*(3*rho*(1-X[i + 1][k])*kb))/((3*rho*(1-X[i + 1][k])*kb)\n",
    "                                                                 + dt*2*(3/2*rho*(1-X[i + 1][k])*kb*(X[i + 1][k]-X[i][k]))/dt)"
   ]
  },
  {
   "cell_type": "code",
   "execution_count": 171,
   "metadata": {
    "scrolled": true
   },
   "outputs": [
    {
     "data": {
      "text/plain": [
       "1.0694635018741124e+25"
      ]
     },
     "execution_count": 171,
     "metadata": {},
     "output_type": "execute_result"
    }
   ],
   "source": [
    "heat(0.0012, 1e4)"
   ]
  },
  {
   "cell_type": "code",
   "execution_count": 169,
   "metadata": {},
   "outputs": [
    {
     "data": {
      "text/plain": [
       "4.1338521054255314e-17"
      ]
     },
     "execution_count": 169,
     "metadata": {},
     "output_type": "execute_result"
    }
   ],
   "source": [
    "cooling(1e5) * rho * dt"
   ]
  },
  {
   "cell_type": "markdown",
   "metadata": {},
   "source": [
    "## Hydrogen photo-ionization"
   ]
  },
  {
   "cell_type": "code",
   "execution_count": 133,
   "metadata": {},
   "outputs": [],
   "source": [
    "def alpha(T):\n",
    "    Lambda = (2*157807)/T\n",
    "    res    = 1.269e-13\n",
    "    res   *= pow(Lambda, 1.503)\n",
    "    res   /= pow(1 + (Lambda/0.522)**0.47, 1.923)\n",
    "    return res\n",
    "\n",
    "def alpha_b(T):\n",
    "    Lambda = (2*157807)/T\n",
    "    res    = 2.753e-14\n",
    "    res   *= pow(Lambda, 1.5)\n",
    "    res   /= pow(1 + (Lambda/2.74)**0.407, 2.242)\n",
    "    return res\n",
    "\n",
    "def beta(T):\n",
    "    Lambda = (2*157807)/T\n",
    "    res    = 21.11*pow(T, (-3/2))*np.exp(-Lambda/2)*pow(Lambda, -1.089)\n",
    "    res   /=pow(1 + pow(Lambda/0.354, 0.874), 1.01)\n",
    "    return res"
   ]
  },
  {
   "cell_type": "code",
   "execution_count": 243,
   "metadata": {},
   "outputs": [],
   "source": [
    "def cooling(T): #collisional excitation cooling in erg cm^3 s^-1\n",
    "    res  = 7.5e-19/(1.+pow(T/1.0e5,0.5))\n",
    "    res *= np.exp(-118348./T)\n",
    "    return res * 1e-7 * rho * dt\n",
    "\n",
    "def heating(rho, dx, E_photon, X, x): \n",
    "    E_ionisation = 13.6\n",
    "    N_tot = rho*(dx*dx*dx)\n",
    "    E_thermal = N_tot*(X-x)*(E_photon - E_ionisation)\n",
    "    return E_thermal * 1.6e-19\n",
    "\n",
    "def heat(X, T):\n",
    "    N_tot = rho * (dx*dx*dx)\n",
    "    kb = cste.k_B.value\n",
    "    return N_tot*(X)*(3/2)*kb*T"
   ]
  },
  {
   "cell_type": "code",
   "execution_count": 197,
   "metadata": {},
   "outputs": [],
   "source": [
    "def third_order_polynom(x, rho, sigma, N, T, c):\n",
    "    m = (alpha_b(T) + beta(T)) * (rho**2) * dt\n",
    "    n = rho - ((alpha(T) + beta(T)) * rho)/(sigma*c) - alpha_b(T) * (rho**2) * dt - 2 * beta(T) * (rho**2) * dt\n",
    "    p = -rho * (1 + x) - N - 1/(sigma * c * dt) + (beta(T) * rho)/(sigma * c) + beta(T) * (rho**2) * dt\n",
    "    q = N + rho * x + x/(sigma * c * dt)\n",
    "\n",
    "    root = np.roots((m,n,p,q))\n",
    "    for i in root:\n",
    "        if i > 0 and i < 1:\n",
    "            sol = i\n",
    "    \n",
    "    return sol"
   ]
  },
  {
   "cell_type": "code",
   "execution_count": 198,
   "metadata": {},
   "outputs": [],
   "source": [
    "def new_advection_equation(N_explicit, F_explicit, rho, X, x, T):\n",
    "    N = N_explicit + beta(T)*(rho**2)*(1 - X)*X*dt - alpha_b(T)*(rho**2)*(X**2)*dt - rho*(X-x)\n",
    "    F = F_explicit / (1 + c*sigma*rho*dt*(1 - X))\n",
    "\n",
    "    return N, F"
   ]
  },
  {
   "cell_type": "markdown",
   "metadata": {},
   "source": [
    "## main"
   ]
  },
  {
   "cell_type": "code",
   "execution_count": 245,
   "metadata": {},
   "outputs": [],
   "source": [
    "n_photon = 5e48 #number of photon per second\n",
    "\n",
    "sigma = 1.63e-18\n",
    "dt = 1e4\n",
    "tf = 5e6\n",
    "rho = 6\n",
    "Tt = 2e3\n",
    "X = 0.0012\n",
    "\n",
    "\n",
    "n_cell = 61\n",
    "dx = 1.9285e15\n",
    "L = n_cell*dx\n",
    "c = cste.c.value*1e2\n",
    "\n",
    "n_gamma = (n_photon)*dt/(dx*dx*dx)\n",
    "\n",
    "\n",
    "e_thermal = (20 - 13.6)*1.6e-19\n",
    "rho_cell = rho * (dx*dx*dx)\n",
    "\n",
    "E_photon = 20 #eV"
   ]
  },
  {
   "cell_type": "code",
   "execution_count": 246,
   "metadata": {},
   "outputs": [],
   "source": [
    "source_pos = [int(n_cell/2)]\n",
    "N, F, P, T, x = [], [], [], [], []\n",
    "\n",
    "for i in range(int(tf/dt)):\n",
    "    N.append(np.zeros(n_cell))\n",
    "    F.append(np.zeros(n_cell))\n",
    "    P.append(np.zeros(n_cell))\n",
    "    T.append(np.ones(n_cell)*Tt)\n",
    "    x.append(np.ones(n_cell)*X)"
   ]
  },
  {
   "cell_type": "code",
   "execution_count": 247,
   "metadata": {},
   "outputs": [
    {
     "data": {
      "text/plain": [
       "21253877779846.094"
      ]
     },
     "execution_count": 247,
     "metadata": {},
     "output_type": "execute_result"
    }
   ],
   "source": [
    "L = (n_gamma*dx)/(alpha_b(Tt)*(rho**2)*dx*dt)\n",
    "L"
   ]
  },
  {
   "cell_type": "code",
   "execution_count": 248,
   "metadata": {},
   "outputs": [
    {
     "data": {
      "text/plain": [
       "132836736124038.1"
      ]
     },
     "execution_count": 248,
     "metadata": {},
     "output_type": "execute_result"
    }
   ],
   "source": [
    "L*6.25"
   ]
  },
  {
   "cell_type": "code",
   "execution_count": 249,
   "metadata": {},
   "outputs": [
    {
     "data": {
      "text/plain": [
       "0.1554536987295826"
      ]
     },
     "execution_count": 249,
     "metadata": {},
     "output_type": "execute_result"
    }
   ],
   "source": [
    "(c*dt)/dx"
   ]
  },
  {
   "cell_type": "code",
   "execution_count": null,
   "metadata": {},
   "outputs": [],
   "source": []
  },
  {
   "cell_type": "code",
   "execution_count": null,
   "metadata": {},
   "outputs": [],
   "source": []
  },
  {
   "cell_type": "code",
   "execution_count": null,
   "metadata": {},
   "outputs": [],
   "source": []
  },
  {
   "cell_type": "code",
   "execution_count": 250,
   "metadata": {
    "scrolled": true
   },
   "outputs": [
    {
     "name": "stdout",
     "output_type": "stream",
     "text": [
      "0\n"
     ]
    },
    {
     "name": "stderr",
     "output_type": "stream",
     "text": [
      "<ipython-input-243-a069974b2d02>:2: RuntimeWarning: invalid value encountered in double_scalars\n",
      "  res  = 7.5e-19/(1.+pow(T/1.0e5,0.5))\n",
      "<ipython-input-243-a069974b2d02>:3: RuntimeWarning: overflow encountered in exp\n",
      "  res *= np.exp(-118348./T)\n"
     ]
    }
   ],
   "source": [
    "b = numerical_scheme(n_gamma,N,F,P,T,dt,tf,source_pos,x,continuous=True,chemistery=True,coupling=True)"
   ]
  },
  {
   "cell_type": "code",
   "execution_count": 93,
   "metadata": {},
   "outputs": [
    {
     "name": "stdout",
     "output_type": "stream",
     "text": [
      "0\n"
     ]
    }
   ],
   "source": [
    "a = numerical_scheme(n_gamma,N,F,P,T,dt,tf,source_pos,x,continuous=True,chemistery=True,coupling=False)"
   ]
  },
  {
   "cell_type": "code",
   "execution_count": 251,
   "metadata": {},
   "outputs": [
    {
     "data": {
      "image/png": "[encoded data removed]",
      "text/plain": [
       "<Figure size 792x576 with 1 Axes>"
      ]
     },
     "metadata": {
      "needs_background": "light"
     },
     "output_type": "display_data"
    }
   ],
   "source": [
    "plt.figure(figsize=(11,8))\n",
    "plt.plot(b[0][10],c='r')\n",
    "#plt.plot(a[0][-1],c='b')\n",
    "plt.show()"
   ]
  },
  {
   "cell_type": "code",
   "execution_count": 252,
   "metadata": {},
   "outputs": [
    {
     "data": {
      "text/plain": [
       "array([8.09081001e+07, 4.51367951e+07, 9.80551159e+06, 7.38240964e+05,\n",
       "       3.48837486e+04, 1.62101181e+03, 7.75796286e+01, 3.91681093e+00,\n",
       "       2.49541684e-01, 3.85360930e-02, 1.52593684e-02, 7.92281470e-03,\n",
       "       4.38937897e-03, 2.52403241e-03, 1.49916987e-03, 9.17427457e-04,\n",
       "       5.76831349e-04, 3.71720178e-04, 2.44788244e-04, 1.64301999e-04,\n",
       "       1.12159527e-04, 7.77041285e-05, 5.45494403e-05, 3.87539247e-05,\n",
       "       2.77703855e-05, 1.99012334e-05, 1.40968445e-05, 9.76556238e-06,\n",
       "       6.21753630e-06, 3.44016233e-06, 1.30870305e-06, 3.44016233e-06,\n",
       "       6.21753630e-06, 9.76556238e-06, 1.40968445e-05, 1.99012334e-05,\n",
       "       2.77703855e-05, 3.87539247e-05, 5.45494403e-05, 7.77041285e-05,\n",
       "       1.12159527e-04, 1.64301999e-04, 2.44788244e-04, 3.71720178e-04,\n",
       "       5.76831349e-04, 9.17427457e-04, 1.49916215e-03, 2.52403155e-03,\n",
       "       4.38935437e-03, 7.92286326e-03, 1.52593749e-02, 3.85361144e-02,\n",
       "       2.49541665e-01, 3.91681096e+00, 7.75796278e+01, 1.62101180e+03,\n",
       "       3.48837413e+04, 7.38218383e+05, 9.79260726e+06, 4.47242265e+07,\n",
       "       7.71583007e+07])"
      ]
     },
     "execution_count": 252,
     "metadata": {},
     "output_type": "execute_result"
    }
   ],
   "source": [
    "b[3][100]"
   ]
  },
  {
   "cell_type": "code",
   "execution_count": 22,
   "metadata": {},
   "outputs": [
    {
     "data": {
      "text/plain": [
       "array([2000., 2000., 2000., 2000., 2000., 2000., 2000., 2000., 2000.,\n",
       "       2000., 2000., 2000., 2000., 2000., 2000., 2000., 2000., 2000.,\n",
       "       2000., 2000., 2000., 2000., 2000., 2000., 2000., 2000., 2000.,\n",
       "       2000., 2000., 2000., 2000., 2000., 2000., 2000., 2000., 2000.,\n",
       "       2000., 2000., 2000., 2000., 2000., 2000., 2000., 2000., 2000.,\n",
       "       2000., 2000., 2000., 2000., 2000., 2000., 2000., 2000., 2000.,\n",
       "       2000., 2000., 2000., 2000., 2000., 2000., 2000.])"
      ]
     },
     "execution_count": 22,
     "metadata": {},
     "output_type": "execute_result"
    }
   ],
   "source": [
    "a[3][-1]"
   ]
  },
  {
   "cell_type": "code",
   "execution_count": 253,
   "metadata": {
    "scrolled": false
   },
   "outputs": [
    {
     "data": {
      "image/png": "[encoded data removed]",
      "text/plain": [
       "<Figure size 792x576 with 1 Axes>"
      ]
     },
     "metadata": {
      "needs_background": "light"
     },
     "output_type": "display_data"
    }
   ],
   "source": [
    "plt.figure(figsize=(11,8))\n",
    "for i in range(int(tf/dt)-1):\n",
    "    if i%10 == 0 and i!=0:\n",
    "        plt.plot(b[3][i])\n",
    "#plt.savefig(\"photon_density.png\")\n",
    "plt.show()"
   ]
  },
  {
   "cell_type": "code",
   "execution_count": 182,
   "metadata": {},
   "outputs": [
    {
     "name": "stdout",
     "output_type": "stream",
     "text": [
      "[7.29944946e+66 3.59326754e+65 3.34848433e+65 3.34748664e+65\n",
      " 3.34748243e+65 3.34748241e+65 3.34748241e+65 3.34748241e+65\n",
      " 3.34748241e+65 3.34748241e+65 3.34748241e+65 3.34748241e+65\n",
      " 3.34748241e+65 3.34748242e+65 3.34748266e+65 3.34753930e+65\n",
      " 3.35953899e+65 5.90804092e+65 5.65094988e+67 9.49900317e+69\n",
      " 1.04292718e+71 1.62307178e+71 1.87659533e+71 2.04072634e+71\n",
      " 2.16652437e+71 2.27312672e+71 2.37085469e+71 2.46800137e+71\n",
      " 2.57523569e+71 2.71609820e+71 3.10872323e+71 2.71609820e+71\n",
      " 2.57523569e+71 2.46800137e+71 2.37085469e+71 2.27312672e+71\n",
      " 2.16652437e+71 2.04072634e+71 1.87659533e+71 1.62307178e+71\n",
      " 1.04292718e+71 9.49900317e+69 5.65094988e+67 5.90804092e+65\n",
      " 3.35953899e+65 3.34753930e+65 3.34748266e+65 3.34748242e+65\n",
      " 3.34748241e+65 3.34748241e+65 3.34748241e+65 3.34748241e+65\n",
      " 3.34748241e+65 3.34748241e+65 3.34748241e+65 3.34748243e+65\n",
      " 3.34748664e+65 3.34848435e+65 3.59327036e+65 7.29952566e+66\n",
      " 2.15750409e+69]\n"
     ]
    }
   ],
   "source": [
    "print((b[3][-1]))"
   ]
  },
  {
   "cell_type": "code",
   "execution_count": null,
   "metadata": {},
   "outputs": [],
   "source": []
  },
  {
   "cell_type": "code",
   "execution_count": null,
   "metadata": {},
   "outputs": [],
   "source": [
    "# diffusion numérique -> un peu photons loin\n",
    "#lissage par GLF du dirac -> front d'onde theorique suit pas excatement la simu "
   ]
  },
  {
   "cell_type": "code",
   "execution_count": null,
   "metadata": {},
   "outputs": [],
   "source": []
  },
  {
   "cell_type": "code",
   "execution_count": 14,
   "metadata": {},
   "outputs": [
    {
     "data": {
      "text/plain": [
       "324077928963.48486"
      ]
     },
     "execution_count": 14,
     "metadata": {},
     "output_type": "execute_result"
    }
   ],
   "source": [
    "324077928963.48486328"
   ]
  },
  {
   "cell_type": "code",
   "execution_count": null,
   "metadata": {},
   "outputs": [],
   "source": []
  },
  {
   "cell_type": "code",
   "execution_count": null,
   "metadata": {},
   "outputs": [],
   "source": []
  },
  {
   "cell_type": "code",
   "execution_count": null,
   "metadata": {},
   "outputs": [],
   "source": []
  },
  {
   "cell_type": "code",
   "execution_count": null,
   "metadata": {},
   "outputs": [],
   "source": []
  },
  {
   "cell_type": "code",
   "execution_count": null,
   "metadata": {},
   "outputs": [],
   "source": []
  },
  {
   "cell_type": "code",
   "execution_count": null,
   "metadata": {},
   "outputs": [],
   "source": []
  },
  {
   "cell_type": "code",
   "execution_count": null,
   "metadata": {},
   "outputs": [],
   "source": []
  },
  {
   "cell_type": "code",
   "execution_count": null,
   "metadata": {},
   "outputs": [],
   "source": []
  },
  {
   "cell_type": "code",
   "execution_count": null,
   "metadata": {},
   "outputs": [],
   "source": []
  },
  {
   "cell_type": "code",
   "execution_count": null,
   "metadata": {},
   "outputs": [],
   "source": []
  },
  {
   "cell_type": "code",
   "execution_count": null,
   "metadata": {},
   "outputs": [],
   "source": []
  },
  {
   "cell_type": "code",
   "execution_count": null,
   "metadata": {},
   "outputs": [],
   "source": []
  },
  {
   "cell_type": "code",
   "execution_count": null,
   "metadata": {},
   "outputs": [],
   "source": [
    "XAxis = np.arange(n_cell)\n",
    "fig, ax = plt.subplots()\n",
    "\n",
    "def animate(i):\n",
    "    #a[0][i] = np.amax(a[0][i])\n",
    "    ax.clear()\n",
    "    ax.set_ylim(0, np.amax(a[0][i]))\n",
    "    line, = ax.plot(XAxis, a[0][i], c='red')\n",
    "    line1, = ax.plot(XAxis, b[0][i], c='blue')\n",
    "    return line, line1,\n",
    "\n",
    "ani = FuncAnimation(fig, animate, interval = 0.1, blit=True, repeat=True, frames=1000)\n",
    "ani.save(\"Gngn.gif\", dpi = 300, writer = PillowWriter(fps=25))"
   ]
  },
  {
   "cell_type": "code",
   "execution_count": null,
   "metadata": {},
   "outputs": [],
   "source": []
  }
 ],
 "metadata": {
  "kernelspec": {
   "display_name": "Python 3",
   "language": "python",
   "name": "python3"
  },
  "language_info": {
   "codemirror_mode": {
    "name": "ipython",
    "version": 3
   },
   "file_extension": ".py",
   "mimetype": "text/x-python",
   "name": "python",
   "nbconvert_exporter": "python",
   "pygments_lexer": "ipython3",
   "version": "3.8.10"
  },
  "vscode": {
   "interpreter": {
    "hash": "916dbcbb3f70747c44a77c7bcd40155683ae19c65e1c03b4aa3499c5328201f1"
   }
  }
 },
 "nbformat": 4,
 "nbformat_minor": 4
}
