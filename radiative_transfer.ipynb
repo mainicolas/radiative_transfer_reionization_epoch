{
 "cells": [
  {
   "cell_type": "code",
   "execution_count": 1,
   "metadata": {},
   "outputs": [],
   "source": [
    "import numpy as np\n",
    "import matplotlib.pyplot as plt\n",
    "from matplotlib.animation import FuncAnimation, PillowWriter\n",
    "\n",
    "from astropy import constants as cste\n",
    "\n",
    "#%matplotlib widget"
   ]
  },
  {
   "cell_type": "markdown",
   "metadata": {},
   "source": [
    "## Numerical integration scheme"
   ]
  },
  {
   "cell_type": "code",
   "execution_count": 2,
   "metadata": {},
   "outputs": [],
   "source": [
    "def glf(N, F, P, i):\n",
    "    glf_f, glf_p = [], []\n",
    "    for j in range(0,n_cell):\n",
    "            if i == 0 and j == 0:\n",
    "                glf_f.append(0)\n",
    "                glf_p.append(0)\n",
    "            if i != 0 and j == 0:\n",
    "                glf_f.append( (F[i - 1][n_cell - 1] + F[i][j]) * 0.5 - c/2 * (N[i][j] - N[i - 1][n_cell - 1]) )\n",
    "                glf_p.append( (P[i - 1][n_cell - 1] + P[i][j]) * 0.5 - c/2 * (F[i][j] - F[i - 1][n_cell - 1]) )\n",
    "            if j != 0:\n",
    "                glf_f.append( (F[i][j - 1] + F[i][j]) * 0.5 - c/2 * (N[i][j] - N[i][j - 1]) )\n",
    "                glf_p.append( (P[i][j - 1] + P[i][j]) * 0.5 - c/2 * (F[i][j] - F[i][j - 1]) )\n",
    "                \n",
    "    return glf_f, glf_p"
   ]
  },
  {
   "cell_type": "code",
   "execution_count": 3,
   "metadata": {},
   "outputs": [],
   "source": [
    "def numerical_scheme(n_photon, N, F, P, dt, tf, source_pos, X, continuous=True, chemistery=True):\n",
    "    for i in source_pos:\n",
    "        N[0][i] = n_photon\n",
    "\n",
    "    for i in range(0,int(tf/dt)-1):\n",
    "        GLF = glf(N,F,P,i)\n",
    "        glf_f, glf_p = GLF[0], GLF[1]\n",
    "        \n",
    "        for k in range(0,n_cell):\n",
    "            if continuous == True and (k in source_pos):\n",
    "                if k < n_cell - 1:\n",
    "                    N[i + 1][k] = n_photon + N[i][k] - dt/dx * (glf_f[k + 1] - glf_f[k])\n",
    "                    F[i + 1][k] = F[i][k] - dt/dx * (glf_p[k + 1] - glf_p[k])\n",
    "                else:\n",
    "                    N[i + 1][k] = n_photon + N[i][k] - dt/dx * (glf_f[0] - glf_f[k])\n",
    "                    F[i + 1][k] = F[i][k] - dt/dx * (glf_p[0] - glf_p[k])\n",
    "                    \n",
    "            else: \n",
    "                if k < n_cell - 1:\n",
    "                    N[i + 1][k] = N[i][k] - dt/dx * (glf_f[k + 1] - glf_f[k])\n",
    "                    F[i + 1][k] = F[i][k] - dt/dx * (glf_p[k + 1] - glf_p[k])\n",
    "                else:\n",
    "                    N[i + 1][k] = N[i][k] - dt/dx * (glf_f[0] - glf_f[k])\n",
    "                    F[i + 1][k] = F[i][k] - dt/dx * (glf_p[0] - glf_p[k])\n",
    "                    \n",
    "            if N[i + 1][k] < 1e-25:\n",
    "                N[i + 1][k] = 0.0001\n",
    "\n",
    "            if chemistery == True:\n",
    "                X[i + 1][k] = third_order_polynom(X[i][k], rho, sigma, N[i + 1][k], T,c)\n",
    "                test = new_advection_equation(N[i + 1][k], F[i + 1][k], rho, X[i+1][k], X[i][k], T)\n",
    "                N[i + 1][k] = test[0]\n",
    "                F[i + 1][k] = test[1]\n",
    "\n",
    "\n",
    "            f = F[i + 1][k] / (c * N[i + 1][k])\n",
    "            chi = (3 + 4 * (f**2)) / (5 + 2 * np.sqrt(4 - 3 * (f**2)))\n",
    "            P[i + 1][k] = chi * N[i + 1][k] * (c**2)\n",
    "                \n",
    "                \n",
    "    return N, F, P, X"
   ]
  },
  {
   "cell_type": "markdown",
   "metadata": {},
   "source": [
    "## Hydrogen photo-ionization"
   ]
  },
  {
   "cell_type": "code",
   "execution_count": 4,
   "metadata": {},
   "outputs": [],
   "source": [
    "def alpha(T):\n",
    "    Lambda = (2*157807)/T\n",
    "    res    = 1.269e-13\n",
    "    res   *= pow(Lambda, 1.503)\n",
    "    res   /= pow(1 + (Lambda/0.522)**0.47, 1.923)\n",
    "    return res\n",
    "\n",
    "def alpha_b(T):\n",
    "    Lambda = (2*157807)/T\n",
    "    res    = 2.753e-14\n",
    "    res   *= pow(Lambda, 1.5)\n",
    "    res   /= pow(1 + (Lambda/2.74)**0.407, 2.242)\n",
    "    return res\n",
    "\n",
    "def beta(T):\n",
    "    Lambda = (2*157807)/T\n",
    "    res    = 21.11*pow(T, (-3/2))*np.exp(-Lambda/2)*pow(Lambda, -1.089)\n",
    "    res   /=pow(1 + pow(Lambda/0.354, 0.874), 1.01)\n",
    "    return res"
   ]
  },
  {
   "cell_type": "code",
   "execution_count": 5,
   "metadata": {},
   "outputs": [],
   "source": [
    "def third_order_polynom(x, rho, sigma, N, T, c):\n",
    "    m = (alpha_b(T) + beta(T)) * (rho**2) * dt\n",
    "    n = rho - ((alpha(T) + beta(T)) * rho)/(sigma*c) - alpha_b(T) * (rho**2) * dt - 2 * beta(T) * (rho**2) * dt\n",
    "    p = -rho * (1 + x) - N - 1/(sigma * c * dt) + (beta(T) * rho)/(sigma * c) + beta(T) * (rho**2) * dt\n",
    "    q = N + rho * x + x/(sigma * c * dt)\n",
    "\n",
    "    root = np.roots((m,n,p,q))\n",
    "    for i in root:\n",
    "        if i > 0 and i < 1:\n",
    "            sol = i\n",
    "    \n",
    "    return sol"
   ]
  },
  {
   "cell_type": "code",
   "execution_count": 6,
   "metadata": {},
   "outputs": [],
   "source": [
    "def new_advection_equation(N_explicit, F_explicit, rho, X, x, T):\n",
    "    N = N_explicit + beta(T)*(rho**2)*(1 - X)*X*dt - alpha_b(T)*(rho**2)*(X**2)*dt - rho*(X-x)\n",
    "    F = F_explicit / (1 + c*sigma*rho*dt*(1 - X))\n",
    "\n",
    "    return N, F"
   ]
  },
  {
   "cell_type": "code",
   "execution_count": 30,
   "metadata": {},
   "outputs": [],
   "source": [
    "n_photon = 5e48 #number of photon per second\n",
    "\n",
    "sigma = 1.63e-18\n",
    "dt = 1e8\n",
    "tf = 1e11\n",
    "rho = 3\n",
    "T = 2e3\n",
    "X = 0.0012\n",
    "\n",
    "\n",
    "n_cell = 101\n",
    "dx = 1.9285e19\n",
    "L = n_cell*dx\n",
    "c = cste.c.value*1e2\n",
    "\n",
    "n_gamma = (n_photon)*dt/(dx*dx*dx)"
   ]
  },
  {
   "cell_type": "code",
   "execution_count": 31,
   "metadata": {},
   "outputs": [],
   "source": [
    "source_pos = [50]\n",
    "N, F, P, x = [], [], [], []\n",
    "\n",
    "for i in range(int(tf/dt)):\n",
    "    N.append(np.zeros(n_cell))\n",
    "    F.append(np.zeros(n_cell))\n",
    "    P.append(np.zeros(n_cell))\n",
    "    x.append(np.ones(n_cell)*X)"
   ]
  },
  {
   "cell_type": "code",
   "execution_count": 32,
   "metadata": {},
   "outputs": [
    {
     "data": {
      "text/plain": [
       "0.4663610961887477"
      ]
     },
     "execution_count": 32,
     "metadata": {},
     "output_type": "execute_result"
    }
   ],
   "source": [
    "(3*c*dt)/dx"
   ]
  },
  {
   "cell_type": "code",
   "execution_count": 33,
   "metadata": {},
   "outputs": [],
   "source": [
    "b = numerical_scheme(n_gamma,N,F,P,dt,tf,source_pos,x,chemistery=True)"
   ]
  },
  {
   "cell_type": "code",
   "execution_count": 34,
   "metadata": {
    "scrolled": false
   },
   "outputs": [
    {
     "data": {
      "image/png": "[encoded data removed]",
      "text/plain": [
       "<Figure size 792x576 with 1 Axes>"
      ]
     },
     "metadata": {
      "needs_background": "light"
     },
     "output_type": "display_data"
    }
   ],
   "source": [
    "plt.figure(figsize=(11,8))\n",
    "for i in range(int(tf/dt)-1):\n",
    "    if i%10 == 0:\n",
    "        plt.plot(b[0][i])\n",
    "plt.show()"
   ]
  },
  {
   "cell_type": "code",
   "execution_count": 21,
   "metadata": {},
   "outputs": [
    {
     "data": {
      "text/plain": [
       "75.0"
      ]
     },
     "execution_count": 21,
     "metadata": {},
     "output_type": "execute_result"
    }
   ],
   "source": [
    "12*6.25"
   ]
  },
  {
   "cell_type": "code",
   "execution_count": 22,
   "metadata": {},
   "outputs": [
    {
     "data": {
      "text/plain": [
       "85.01551111938439"
      ]
     },
     "execution_count": 22,
     "metadata": {},
     "output_type": "execute_result"
    }
   ],
   "source": [
    "n_gamma*dx/(alpha_b(T)*(rho**2))/1.9285e19"
   ]
  },
  {
   "cell_type": "code",
   "execution_count": null,
   "metadata": {},
   "outputs": [],
   "source": []
  },
  {
   "cell_type": "code",
   "execution_count": 84,
   "metadata": {},
   "outputs": [
    {
     "data": {
      "text/plain": [
       "324.07792896348485"
      ]
     },
     "execution_count": 84,
     "metadata": {},
     "output_type": "execute_result"
    }
   ],
   "source": [
    "324077928963.48486328"
   ]
  },
  {
   "cell_type": "code",
   "execution_count": null,
   "metadata": {},
   "outputs": [],
   "source": []
  },
  {
   "cell_type": "code",
   "execution_count": null,
   "metadata": {},
   "outputs": [],
   "source": []
  },
  {
   "cell_type": "code",
   "execution_count": null,
   "metadata": {},
   "outputs": [],
   "source": []
  },
  {
   "cell_type": "code",
   "execution_count": null,
   "metadata": {},
   "outputs": [],
   "source": []
  },
  {
   "cell_type": "code",
   "execution_count": null,
   "metadata": {},
   "outputs": [],
   "source": []
  },
  {
   "cell_type": "code",
   "execution_count": null,
   "metadata": {},
   "outputs": [],
   "source": []
  },
  {
   "cell_type": "code",
   "execution_count": null,
   "metadata": {},
   "outputs": [],
   "source": []
  },
  {
   "cell_type": "code",
   "execution_count": null,
   "metadata": {},
   "outputs": [],
   "source": []
  },
  {
   "cell_type": "code",
   "execution_count": null,
   "metadata": {},
   "outputs": [],
   "source": []
  },
  {
   "cell_type": "code",
   "execution_count": null,
   "metadata": {},
   "outputs": [],
   "source": []
  },
  {
   "cell_type": "code",
   "execution_count": null,
   "metadata": {},
   "outputs": [],
   "source": []
  },
  {
   "cell_type": "code",
   "execution_count": null,
   "metadata": {},
   "outputs": [],
   "source": []
  },
  {
   "cell_type": "code",
   "execution_count": null,
   "metadata": {},
   "outputs": [],
   "source": [
    "XAxis = np.arange(n_cell)\n",
    "fig, ax = plt.subplots()\n",
    "\n",
    "def animate(i):\n",
    "    #a[0][i] = np.amax(a[0][i])\n",
    "    ax.clear()\n",
    "    ax.set_ylim(0, np.amax(a[0][i]))\n",
    "    line, = ax.plot(XAxis, a[0][i], c='red')\n",
    "    line1, = ax.plot(XAxis, b[0][i], c='blue')\n",
    "    return line, line1,\n",
    "\n",
    "ani = FuncAnimation(fig, animate, interval = 0.1, blit=True, repeat=True, frames=1000)\n",
    "ani.save(\"Gngn.gif\", dpi = 300, writer = PillowWriter(fps=25))"
   ]
  },
  {
   "cell_type": "code",
   "execution_count": null,
   "metadata": {},
   "outputs": [],
   "source": []
  }
 ],
 "metadata": {
  "kernelspec": {
   "display_name": "Python 3",
   "language": "python",
   "name": "python3"
  },
  "language_info": {
   "codemirror_mode": {
    "name": "ipython",
    "version": 3
   },
   "file_extension": ".py",
   "mimetype": "text/x-python",
   "name": "python",
   "nbconvert_exporter": "python",
   "pygments_lexer": "ipython3",
   "version": "3.8.10"
  },
  "vscode": {
   "interpreter": {
    "hash": "916dbcbb3f70747c44a77c7bcd40155683ae19c65e1c03b4aa3499c5328201f1"
   }
  }
 },
 "nbformat": 4,
 "nbformat_minor": 4
}
